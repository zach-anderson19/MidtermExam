{
  "nbformat": 4,
  "nbformat_minor": 0,
  "metadata": {
    "colab": {
      "provenance": [],
      "authorship_tag": "ABX9TyMQCeyVPE6u0A79icMNAqGC",
      "include_colab_link": true
    },
    "kernelspec": {
      "name": "python3",
      "display_name": "Python 3"
    },
    "language_info": {
      "name": "python"
    }
  },
  "cells": [
    {
      "cell_type": "markdown",
      "metadata": {
        "id": "view-in-github",
        "colab_type": "text"
      },
      "source": [
        "<a href=\"https://colab.research.google.com/github/zach-anderson19/MidtermExam/blob/main/MidtermExam.ipynb\" target=\"_parent\"><img src=\"https://colab.research.google.com/assets/colab-badge.svg\" alt=\"Open In Colab\"/></a>"
      ]
    },
    {
      "cell_type": "code",
      "execution_count": null,
      "metadata": {
        "colab": {
          "base_uri": "https://localhost:8080/"
        },
        "id": "rJh_PK_eo2AR",
        "outputId": "6de18d84-cdfc-4890-9094-eb4fbaa5acd8"
      },
      "outputs": [
        {
          "output_type": "stream",
          "name": "stdout",
          "text": [
            "Enter a1: 1\n",
            "Enter b1: 2\n",
            "Enter c1: 3\n",
            "Enter x1: 4\n",
            "Enter a2: 5\n",
            "Enter b2: 6\n",
            "Enter c2: 7\n",
            "Enter x2: 8\n",
            "Final Result: 402\n"
          ]
        }
      ],
      "source": [
        "#Zachary Anderson\n",
        "#Midterm Exam Problem 3\n",
        "def evalQuadratic(a, b, c, x):\n",
        "\n",
        "  '''\n",
        "  a, b, c: numerical values for the coefficients of a quadratic equation\n",
        "  x: numerical value at which to evaluate the quadratic.\n",
        "  '''\n",
        "  #provided equation\n",
        "  return a*x*x + b*x + c\n",
        "\n",
        "def twoQuadratics(a1, b1, c1, x1, a2, b2, c2, x2):\n",
        "  '''\n",
        "  a1, b1, c1: one set of coefficients of a quadratic equation\n",
        "  a2, b2, c2: another set of coefficients of a quadratic equation\n",
        "  x1, x2: values at which to evaluate the quadratics\n",
        "  '''\n",
        "# Your code here\n",
        "\n",
        "#user input values for a,b,c,x (1 and 2)\n",
        "a1 = int (input (\"Enter a1: \"))\n",
        "b1 = int (input (\"Enter b1: \"))\n",
        "c1 = int (input (\"Enter c1: \"))\n",
        "x1 = int (input (\"Enter x1: \"))\n",
        "\n",
        "a2 = int (input (\"Enter a2: \"))\n",
        "b2 = int (input (\"Enter b2: \"))\n",
        "c2 = int (input (\"Enter c2: \"))\n",
        "x2 = int (input (\"Enter x2: \"))\n",
        "\n",
        "#calculating values of quads from user inpit by calling eval function\n",
        "quad1 = evalQuadratic(a1, b1, c1, x1)\n",
        "quad2 = evalQuadratic(a2, b2, c2, x2)\n",
        "\n",
        "#printing final results\n",
        "print (\"Final Result: \" + (str(quad1 + quad2)))"
      ]
    },
    {
      "cell_type": "code",
      "source": [
        "#Zachary Anderson\n",
        "#Midterm Exam Problem 4\n",
        "\n",
        "def deep_reverse(L):\n",
        "  \"\"\" assumes L is a list of lists whose elements are ints\n",
        "  Mutates L such that it reverses its elements and also\n",
        "  reverses the order of the int elements in every element of L.\n",
        "  It does not return anything.\n",
        "  \"\"\"\n",
        "# Your code here\n",
        "L = [[1, 2], [3, 4], [5, 6, 7]]\n",
        "\n",
        "#reverses list L\n",
        "L.reverse()\n",
        "#reverses sublists in L\n",
        "for sublist in L:\n",
        "  sublist.reverse()\n",
        "\n",
        "#final print statement\n",
        "print (L)"
      ],
      "metadata": {
        "colab": {
          "base_uri": "https://localhost:8080/"
        },
        "id": "ihb6R6gst9Ep",
        "outputId": "cc6c2828-46a6-4139-a132-bccb29876bff"
      },
      "execution_count": null,
      "outputs": [
        {
          "output_type": "stream",
          "name": "stdout",
          "text": [
            "[[7, 6, 5], [4, 3], [2, 1]]\n"
          ]
        }
      ]
    },
    {
      "cell_type": "code",
      "source": [
        "#Zachary Anderson\n",
        "#Midterm Exam Problem 5\n",
        "\n",
        "def dict_invert(d):\n",
        "  '''\n",
        "  d: dict\n",
        "  Returns an inverted dictionary according to the instructions above\n",
        "  '''\n",
        "# Your code here\n",
        "  invert_dict = {}\n",
        "\n",
        "  #iterate through the key-value pairs in the dictionary\n",
        "  for key, value in d.items():\n",
        "    #checks if value exists as a key\n",
        "    if value not in invert_dict:\n",
        "      invert_dict[value] = [key]\n",
        "\n",
        "    #if exists, appends to existing list\n",
        "    else:\n",
        "      invert_dict[value].append(key)\n",
        "\n",
        "  #sorts list of keys in ascending order\n",
        "  for value in invert_dict:\n",
        "    invert_dict[value].sort()\n",
        "\n",
        "  return invert_dict\n",
        "\n",
        "\n",
        "#print statement with test case\n",
        "print (dict_invert({1:10, 2:20, 3:30}))\n",
        "\n"
      ],
      "metadata": {
        "colab": {
          "base_uri": "https://localhost:8080/"
        },
        "id": "C2wgcw9DvcO4",
        "outputId": "a7780589-7ee0-473a-f038-b4d1e85c477a"
      },
      "execution_count": null,
      "outputs": [
        {
          "output_type": "stream",
          "name": "stdout",
          "text": [
            "{10: [1], 20: [2], 30: [3]}\n"
          ]
        }
      ]
    },
    {
      "cell_type": "code",
      "source": [
        "#Zachary Anderson\n",
        "#Midterm Exam Problem 6\n",
        "\n",
        "def max_val(t):\n",
        "  \"\"\" t, tuple or list\n",
        "  Each element of t is either an int, a tuple, or a list\n",
        "  No tuple or list is empty\n",
        "  Returns the maximum int in t or (recursively) in an element of t\n",
        "  \"\"\"\n",
        "# Your code here\n",
        "  #initialiing result with smallest, non negative number\n",
        "  result = 0\n",
        "\n",
        "\n",
        "  for e in t:\n",
        "    #checking if e is list or tuple\n",
        "    if isinstance(e,(list,tuple)):\n",
        "      #finding max value\n",
        "      e = max_val(e)\n",
        "\n",
        "    #comparing ith current result\n",
        "    if e > result:\n",
        "      result = e\n",
        "\n",
        "  return result\n",
        "\n",
        "#print statements with example\n",
        "print(max_val((5,(1,2),[[1],[2]])))\n",
        "print(max_val((5,(1,2),[[1],[9]])))\n"
      ],
      "metadata": {
        "id": "dKyTkqOM1c_z",
        "colab": {
          "base_uri": "https://localhost:8080/"
        },
        "outputId": "d94006d3-b84c-4745-a5a6-e38d8ab87913"
      },
      "execution_count": null,
      "outputs": [
        {
          "output_type": "stream",
          "name": "stdout",
          "text": [
            "5\n",
            "9\n"
          ]
        }
      ]
    },
    {
      "cell_type": "code",
      "source": [
        "#Zachary Anderson\n",
        "#Midterm Exam Problem 7\n",
        "\n",
        "#function that returns true if a is present in string, and false otherwise\n",
        "def f(s):\n",
        "  return 'a' in s\n",
        "\n",
        "def satisfiesF (L):\n",
        "    '''\n",
        "    L is a list of strings.\n",
        "    Assume function f is provided and it maps a string to a Boolean.\n",
        "    Mutate L such that it contains all of the strings, s, originally in L such that f(s)\n",
        "    returns False and no other elements. Remaining elements in L should be in the same\n",
        "    order.\n",
        "    '''\n",
        "\n",
        "    #iterates over original list and creates new list with items where f(s) is false\n",
        "    L[:] = [s for s in L if not f(s)]\n",
        "\n",
        "\n",
        "#function testing satisfiesF\n",
        "def run_satisfiesF(L, satisfiesF):\n",
        "  #mutates L in place rather than creating new string\n",
        "  satisfiesF(L)\n",
        "  return (L)\n",
        "\n",
        "#defining list of strings\n",
        "L = ['a', 'b', 'c']\n",
        "\n",
        "#calling method satisfiesF\n",
        "run_satisfiesF(L, satisfiesF)\n",
        "\n",
        "print (L)"
      ],
      "metadata": {
        "id": "UPu7ulobqPsa",
        "colab": {
          "base_uri": "https://localhost:8080/"
        },
        "outputId": "edf0efb5-b1ba-487f-8161-4213d7ca6525"
      },
      "execution_count": null,
      "outputs": [
        {
          "output_type": "stream",
          "name": "stdout",
          "text": [
            "['b', 'c']\n"
          ]
        }
      ]
    }
  ]
}